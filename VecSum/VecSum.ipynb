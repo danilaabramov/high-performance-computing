{
  "nbformat": 4,
  "nbformat_minor": 0,
  "metadata": {
    "colab": {
      "provenance": [],
      "gpuType": "T4"
    },
    "kernelspec": {
      "name": "python3",
      "display_name": "Python 3"
    },
    "language_info": {
      "name": "python"
    },
    "accelerator": "GPU"
  },
  "cells": [
    {
      "cell_type": "code",
      "execution_count": 1,
      "metadata": {
        "colab": {
          "base_uri": "https://localhost:8080/"
        },
        "id": "8t84lhIB_QzA",
        "outputId": "cfebc8eb-1d8a-451a-8831-34d0a5d67f4d"
      },
      "outputs": [
        {
          "output_type": "stream",
          "name": "stdout",
          "text": [
            "Сумма на CPU: 500208.356532953, Время выполнения на CPU: 0.20639610290527344 секунд\n",
            "Сумма на GPU: 500208.3565329657, Время выполнения на GPU: 0.4161536693572998 секунд\n"
          ]
        }
      ],
      "source": [
        "import numpy as np\n",
        "import cupy as cp\n",
        "import time\n",
        "\n",
        "# Функция для сложения элементов вектора на CPU\n",
        "def vector_sum_cpu(vector):\n",
        "    result_cpu = 0\n",
        "    for element in vector:\n",
        "        result_cpu += element\n",
        "    return result_cpu\n",
        "\n",
        "# Функция для сложения элементов вектора на GPU с использованием CUDA\n",
        "def vector_sum_gpu(vector):\n",
        "    vector_gpu = cp.asarray(vector)\n",
        "    result_gpu = cp.sum(vector_gpu)\n",
        "    result_cpu = cp.asnumpy(result_gpu)\n",
        "    return result_cpu\n",
        "\n",
        "if __name__ == \"__main__\":\n",
        "    # Генерация вектора с случайными значениями\n",
        "    vector_size = 1000000\n",
        "    vector = np.random.rand(vector_size)\n",
        "\n",
        "    # Сложение на CPU\n",
        "    start_time_cpu = time.time()\n",
        "    result_cpu = vector_sum_cpu(vector)\n",
        "    end_time_cpu = time.time()\n",
        "\n",
        "    cpu_time = end_time_cpu - start_time_cpu\n",
        "    print(f\"Сумма на CPU: {result_cpu}, Время выполнения на CPU: {cpu_time} секунд\")\n",
        "\n",
        "    # Сложение на GPU\n",
        "    start_time_gpu = time.time()\n",
        "    result_gpu = vector_sum_gpu(vector)\n",
        "    end_time_gpu = time.time()\n",
        "\n",
        "    gpu_time = end_time_gpu - start_time_gpu\n",
        "    print(f\"Сумма на GPU: {result_gpu}, Время выполнения на GPU: {gpu_time} секунд\")"
      ]
    }
  ]
}