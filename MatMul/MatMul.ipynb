{
  "nbformat": 4,
  "nbformat_minor": 0,
  "metadata": {
    "colab": {
      "provenance": [],
      "gpuType": "T4"
    },
    "kernelspec": {
      "name": "python3",
      "display_name": "Python 3"
    },
    "language_info": {
      "name": "python"
    },
    "accelerator": "GPU"
  },
  "cells": [
    {
      "cell_type": "code",
      "source": [
        "!nvcc --version\n",
        "!pip install git+https://github.com/andreinechaev/nvcc4jupyter.git\n",
        "%load_ext nvcc_plugin"
      ],
      "metadata": {
        "colab": {
          "base_uri": "https://localhost:8080/"
        },
        "id": "M0sdcwPGPVVX",
        "outputId": "298bf16c-7d57-4a13-e9fe-16b0f46dda11"
      },
      "execution_count": 1,
      "outputs": [
        {
          "output_type": "stream",
          "name": "stdout",
          "text": [
            "nvcc: NVIDIA (R) Cuda compiler driver\n",
            "Copyright (c) 2005-2022 NVIDIA Corporation\n",
            "Built on Wed_Sep_21_10:33:58_PDT_2022\n",
            "Cuda compilation tools, release 11.8, V11.8.89\n",
            "Build cuda_11.8.r11.8/compiler.31833905_0\n",
            "Collecting git+https://github.com/andreinechaev/nvcc4jupyter.git\n",
            "  Cloning https://github.com/andreinechaev/nvcc4jupyter.git to /tmp/pip-req-build-4_8ifgmf\n",
            "  Running command git clone --filter=blob:none --quiet https://github.com/andreinechaev/nvcc4jupyter.git /tmp/pip-req-build-4_8ifgmf\n",
            "  Resolved https://github.com/andreinechaev/nvcc4jupyter.git to commit 0a71d56e5dce3ff1f0dd2c47c29367629262f527\n",
            "  Preparing metadata (setup.py) ... \u001b[?25l\u001b[?25hdone\n",
            "Building wheels for collected packages: NVCCPlugin\n",
            "  Building wheel for NVCCPlugin (setup.py) ... \u001b[?25l\u001b[?25hdone\n",
            "  Created wheel for NVCCPlugin: filename=NVCCPlugin-0.0.2-py3-none-any.whl size=4295 sha256=8dcbc188f8c76ae931a53200a80651c19eb4b9b4ad39cc3258460542ebec2120\n",
            "  Stored in directory: /tmp/pip-ephem-wheel-cache-eqis66f_/wheels/a8/b9/18/23f8ef71ceb0f63297dd1903aedd067e6243a68ea756d6feea\n",
            "Successfully built NVCCPlugin\n",
            "Installing collected packages: NVCCPlugin\n",
            "Successfully installed NVCCPlugin-0.0.2\n",
            "created output directory at /content/src\n",
            "Out bin /content/result.out\n"
          ]
        }
      ]
    },
    {
      "cell_type": "code",
      "execution_count": 2,
      "metadata": {
        "colab": {
          "base_uri": "https://localhost:8080/"
        },
        "id": "P20OaXNjOdIL",
        "outputId": "4bc287b1-6f90-43f7-fc82-b297b615f5b2"
      },
      "outputs": [
        {
          "output_type": "stream",
          "name": "stdout",
          "text": [
            "CPU время: 9.17978 секунд\n",
            "GPU время: 0.00684442 секунд\n",
            "\n"
          ]
        }
      ],
      "source": [
        "%%cu\n",
        "\n",
        "#include <iostream>\n",
        "#include <vector>\n",
        "#include <ctime>\n",
        "#include <cstdlib>\n",
        "#include <cuda_runtime.h>\n",
        "\n",
        "// Функция для перемножения матриц на CPU\n",
        "void MatrixMultiplyCPU(const std::vector<float>& A, const std::vector<float>& B, std::vector<float>& C, int N) {\n",
        "    for (int i = 0; i < N; ++i) {\n",
        "        for (int j = 0; j < N; ++j) {\n",
        "            float sum = 0.0;\n",
        "            for (int k = 0; k < N; ++k) {\n",
        "                sum += A[i * N + k] * B[k * N + j];\n",
        "            }\n",
        "            C[i * N + j] = sum;\n",
        "        }\n",
        "    }\n",
        "}\n",
        "\n",
        "// Функция для перемножения матриц на GPU с использованием CUDA\n",
        "__global__ void MatrixMultiplyGPU(const float* A, const float* B, float* C, int N) {\n",
        "    int row = blockIdx.y * blockDim.y + threadIdx.y;\n",
        "    int col = blockIdx.x * blockDim.x + threadIdx.x;\n",
        "\n",
        "    float sum = 0.0;\n",
        "    for (int k = 0; k < N; ++k) {\n",
        "        sum += A[row * N + k] * B[k * N + col];\n",
        "    }\n",
        "    C[row * N + col] = sum;\n",
        "}\n",
        "\n",
        "int main() {\n",
        "    int N = 1000; // Размерность матриц (измените на нужное значение)\n",
        "    std::vector<float> A(N * N);\n",
        "    std::vector<float> B(N * N);\n",
        "    std::vector<float> C(N * N);\n",
        "\n",
        "    // Заполните матрицы A и B случайными данными\n",
        "\n",
        "    // Выполнение перемножения на CPU\n",
        "    clock_t cpu_start = clock();\n",
        "    MatrixMultiplyCPU(A, B, C, N);\n",
        "    clock_t cpu_end = clock();\n",
        "    double cpu_time = static_cast<double>(cpu_end - cpu_start) / CLOCKS_PER_SEC;\n",
        "    std::cout << \"CPU время: \" << cpu_time << \" секунд\" << std::endl;\n",
        "\n",
        "    // Выполнение перемножения на GPU с использованием CUDA\n",
        "    float* d_A, * d_B, * d_C;\n",
        "    cudaMalloc((void**)&d_A, sizeof(float) * N * N);\n",
        "    cudaMalloc((void**)&d_B, sizeof(float) * N * N);\n",
        "    cudaMalloc((void**)&d_C, sizeof(float) * N * N);\n",
        "\n",
        "    cudaMemcpy(d_A, A.data(), sizeof(float) * N * N, cudaMemcpyHostToDevice);\n",
        "    cudaMemcpy(d_B, B.data(), sizeof(float) * N * N, cudaMemcpyHostToDevice);\n",
        "\n",
        "    dim3 block_size(16, 16); // Размер блока на GPU\n",
        "    dim3 grid_size(N / block_size.x, N / block_size.y);\n",
        "\n",
        "    cudaEvent_t gpu_start, gpu_end;\n",
        "    cudaEventCreate(&gpu_start);\n",
        "    cudaEventCreate(&gpu_end);\n",
        "    cudaEventRecord(gpu_start);\n",
        "\n",
        "    MatrixMultiplyGPU<<<grid_size, block_size>>>(d_A, d_B, d_C, N);\n",
        "\n",
        "    cudaEventRecord(gpu_end);\n",
        "    cudaEventSynchronize(gpu_end);\n",
        "    float gpu_time = 0.0;\n",
        "    cudaEventElapsedTime(&gpu_time, gpu_start, gpu_end);\n",
        "    gpu_time /= 1000.0; // Преобразование в секунды\n",
        "    std::cout << \"GPU время: \" << gpu_time << \" секунд\" << std::endl;\n",
        "\n",
        "    cudaMemcpy(C.data(), d_C, sizeof(float) * N * N, cudaMemcpyDeviceToHost);\n",
        "\n",
        "    // Проверьте корректность результатов (например, сравнив с результатами на CPU)\n",
        "\n",
        "    cudaFree(d_A);\n",
        "    cudaFree(d_B);\n",
        "    cudaFree(d_C);\n",
        "\n",
        "    return 0;\n",
        "}\n"
      ]
    }
  ]
}