{
  "nbformat": 4,
  "nbformat_minor": 0,
  "metadata": {
    "colab": {
      "provenance": [],
      "gpuType": "T4"
    },
    "kernelspec": {
      "name": "python3",
      "display_name": "Python 3"
    },
    "language_info": {
      "name": "python"
    },
    "accelerator": "GPU"
  },
  "cells": [
    {
      "cell_type": "code",
      "source": [
        "import numpy as np\n",
        "import cupy as cp\n",
        "import time\n",
        "\n",
        "def matrix_multiply_cpu(matrix_a, matrix_b):\n",
        "    # Проверка корректности перемножения\n",
        "    if matrix_a.shape[1] != matrix_b.shape[0]:\n",
        "        raise ValueError(\"Неправильные размеры матриц для перемножения\")\n",
        "\n",
        "    result = np.zeros((matrix_a.shape[0], matrix_b.shape[1]))\n",
        "\n",
        "    start_time = time.time()\n",
        "    for i in range(matrix_a.shape[0]):\n",
        "        for j in range(matrix_b.shape[1]):\n",
        "            for k in range(matrix_a.shape[1]):\n",
        "                result[i, j] += matrix_a[i, k] * matrix_b[k, j]\n",
        "    end_time = time.time()\n",
        "\n",
        "    return result, end_time - start_time\n",
        "\n",
        "def matrix_multiply_gpu(matrix_a, matrix_b):\n",
        "    # Проверка корректности перемножения\n",
        "    if matrix_a.shape[1] != matrix_b.shape[0]:\n",
        "        raise ValueError(\"Неправильные размеры матриц для перемножения\")\n",
        "\n",
        "    # Перенос матриц на GPU\n",
        "    matrix_a_gpu = cp.asarray(matrix_a)\n",
        "    matrix_b_gpu = cp.asarray(matrix_b)\n",
        "\n",
        "    start_time = time.time()\n",
        "    result_gpu = cp.dot(matrix_a_gpu, matrix_b_gpu)\n",
        "    result = cp.asnumpy(result_gpu)  # Возвращаем результат на CPU\n",
        "    end_time = time.time()\n",
        "\n",
        "    return result, end_time - start_time\n",
        "\n",
        "if __name__ == \"__main__\":\n",
        "    matrix_size = (1000, 1000)\n",
        "    matrix_a = np.random.rand(*matrix_size)\n",
        "    matrix_b = np.random.rand(*matrix_size)\n",
        "\n",
        "    result_cpu, time_cpu = matrix_multiply_cpu(matrix_a, matrix_b)\n",
        "    result_gpu, time_gpu = matrix_multiply_gpu(matrix_a, matrix_b)\n",
        "\n",
        "    print(f\"Результат на CPU:\\n{result_cpu}\")\n",
        "    print(f\"Время на CPU: {time_cpu} секунд\")\n",
        "\n",
        "    print(f\"Результат на GPU:\\n{result_gpu}\")\n",
        "    print(f\"Время на GPU: {time_gpu} секунд\")"
      ],
      "metadata": {
        "id": "Hb_PV4_WDnqt",
        "colab": {
          "base_uri": "https://localhost:8080/"
        },
        "outputId": "57b93809-8253-4f68-f021-50859a56db12"
      },
      "execution_count": 8,
      "outputs": [
        {
          "output_type": "stream",
          "name": "stdout",
          "text": [
            "Результат на CPU:\n",
            "[[243.18308409 249.12520272 252.88324306 ... 248.56073694 251.58382753\n",
            "  238.84813173]\n",
            " [244.89363166 256.14268848 252.42904967 ... 252.2370358  252.68774878\n",
            "  241.81672409]\n",
            " [243.21589992 257.13578152 256.92665338 ... 247.41355395 250.17217928\n",
            "  240.86652593]\n",
            " ...\n",
            " [248.99109108 258.15349436 260.98494705 ... 259.19589889 259.30617321\n",
            "  246.14162672]\n",
            " [243.10765788 256.0719056  257.54818472 ... 254.6849639  251.36533832\n",
            "  242.18877473]\n",
            " [250.25414595 255.8101921  260.94872877 ... 258.4487663  257.74523575\n",
            "  246.55741561]]\n",
            "Время на CPU: 670.6450788974762 секунд\n",
            "Результат на GPU:\n",
            "[[243.18308409 249.12520272 252.88324306 ... 248.56073694 251.58382753\n",
            "  238.84813173]\n",
            " [244.89363166 256.14268848 252.42904967 ... 252.2370358  252.68774878\n",
            "  241.81672409]\n",
            " [243.21589992 257.13578152 256.92665338 ... 247.41355395 250.17217928\n",
            "  240.86652593]\n",
            " ...\n",
            " [248.99109108 258.15349436 260.98494705 ... 259.19589889 259.30617321\n",
            "  246.14162672]\n",
            " [243.10765788 256.0719056  257.54818472 ... 254.6849639  251.36533832\n",
            "  242.18877473]\n",
            " [250.25414595 255.8101921  260.94872877 ... 258.4487663  257.74523575\n",
            "  246.55741561]]\n",
            "Время на GPU: 0.03273630142211914 секунд\n"
          ]
        }
      ]
    }
  ]
}