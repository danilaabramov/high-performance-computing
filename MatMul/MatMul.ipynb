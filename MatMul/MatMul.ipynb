{
  "nbformat": 4,
  "nbformat_minor": 0,
  "metadata": {
    "colab": {
      "provenance": [],
      "gpuType": "T4"
    },
    "kernelspec": {
      "name": "python3",
      "display_name": "Python 3"
    },
    "language_info": {
      "name": "python"
    },
    "accelerator": "GPU"
  },
  "cells": [
    {
      "cell_type": "code",
      "source": [
        "import numpy as np\n",
        "import cupy as cp\n",
        "import time\n",
        "\n",
        "def matrix_multiply_cpu(matrix_a, matrix_b):\n",
        "    # Проверка корректности перемножения\n",
        "    if matrix_a.shape[1] != matrix_b.shape[0]:\n",
        "        raise ValueError(\"Неправильные размеры матриц для перемножения\")\n",
        "\n",
        "    start_time = time.time()\n",
        "    result = np.dot(matrix_a, matrix_b)\n",
        "    end_time = time.time()\n",
        "\n",
        "    return result, end_time - start_time\n",
        "\n",
        "def matrix_multiply_gpu(matrix_a, matrix_b):\n",
        "    # Проверка корректности перемножения\n",
        "    if matrix_a.shape[1] != matrix_b.shape[0]:\n",
        "        raise ValueError(\"Неправильные размеры матриц для перемножения\")\n",
        "\n",
        "    # Перенос матриц на GPU\n",
        "    matrix_a_gpu = cp.asarray(matrix_a)\n",
        "    matrix_b_gpu = cp.asarray(matrix_b)\n",
        "\n",
        "    start_time = time.time()\n",
        "    result_gpu = cp.dot(matrix_a_gpu, matrix_b_gpu)\n",
        "    result = cp.asnumpy(result_gpu)  # Возвращаем результат на CPU\n",
        "    end_time = time.time()\n",
        "\n",
        "    return result, end_time - start_time\n",
        "\n",
        "if __name__ == \"__main__\":\n",
        "    matrix_size = (3000, 3000)\n",
        "    matrix_a = np.random.rand(*matrix_size)\n",
        "    matrix_b = np.random.rand(*matrix_size)\n",
        "\n",
        "    result_cpu, time_cpu = matrix_multiply_cpu(matrix_a, matrix_b)\n",
        "    result_gpu, time_gpu = matrix_multiply_gpu(matrix_a, matrix_b)\n",
        "\n",
        "    print(f\"Результат на CPU:\\n{result_cpu}\")\n",
        "    print(f\"Время на CPU: {time_cpu} секунд\")\n",
        "\n",
        "    print(f\"Результат на GPU:\\n{result_gpu}\")\n",
        "    print(f\"Время на GPU: {time_gpu} секунд\")\n"
      ],
      "metadata": {
        "id": "Hb_PV4_WDnqt",
        "colab": {
          "base_uri": "https://localhost:8080/"
        },
        "outputId": "e128733f-1499-4ae1-9a36-33172095ef92"
      },
      "execution_count": 4,
      "outputs": [
        {
          "output_type": "stream",
          "name": "stdout",
          "text": [
            "Результат на CPU:\n",
            "[[739.14460055 725.79270794 734.30940358 ... 730.67158594 735.4860924\n",
            "  725.16192507]\n",
            " [769.01639523 756.24795554 760.66273554 ... 764.36234787 774.65111518\n",
            "  762.39898492]\n",
            " [772.47388716 772.34990651 775.49073635 ... 766.22091271 770.56368819\n",
            "  763.97032642]\n",
            " ...\n",
            " [758.49668321 753.99246184 744.10201339 ... 759.4877092  761.6058053\n",
            "  754.35922891]\n",
            " [748.98869899 741.8361989  753.5202473  ... 751.10382443 743.8806863\n",
            "  743.85191651]\n",
            " [764.84645157 768.654932   772.44815986 ... 767.46906557 764.94310842\n",
            "  766.18348357]]\n",
            "Время на CPU: 2.168550491333008 секунд\n",
            "Результат на GPU:\n",
            "[[739.14460055 725.79270794 734.30940358 ... 730.67158594 735.4860924\n",
            "  725.16192507]\n",
            " [769.01639523 756.24795554 760.66273554 ... 764.36234787 774.65111518\n",
            "  762.39898492]\n",
            " [772.47388716 772.34990651 775.49073635 ... 766.22091271 770.56368819\n",
            "  763.97032642]\n",
            " ...\n",
            " [758.49668321 753.99246184 744.10201339 ... 759.4877092  761.6058053\n",
            "  754.35922891]\n",
            " [748.98869899 741.8361989  753.5202473  ... 751.10382443 743.8806863\n",
            "  743.85191651]\n",
            " [764.84645157 768.654932   772.44815986 ... 767.46906557 764.94310842\n",
            "  766.18348357]]\n",
            "Время на GPU: 0.4463353157043457 секунд\n"
          ]
        }
      ]
    }
  ]
}