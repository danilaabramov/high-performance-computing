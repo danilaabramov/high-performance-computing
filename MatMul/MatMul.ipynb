{
  "nbformat": 4,
  "nbformat_minor": 0,
  "metadata": {
    "colab": {
      "provenance": [],
      "gpuType": "T4"
    },
    "kernelspec": {
      "name": "python3",
      "display_name": "Python 3"
    },
    "language_info": {
      "name": "python"
    },
    "accelerator": "GPU"
  },
  "cells": [
    {
      "cell_type": "code",
      "execution_count": 14,
      "metadata": {
        "colab": {
          "base_uri": "https://localhost:8080/"
        },
        "id": "8t84lhIB_QzA",
        "outputId": "1b897f7a-2613-4b7b-ed0a-df1b083c75a9"
      },
      "outputs": [
        {
          "output_type": "stream",
          "name": "stdout",
          "text": [
            "Сумма на CPU: 499889.0654120432, Время выполнения на CPU: 0.0007088184356689453 секунд\n",
            "Сумма на GPU: 499889.0654120431, Время выполнения на GPU: 0.0024118423461914062 секунд\n"
          ]
        }
      ],
      "source": [
        "import numpy as np\n",
        "import cupy as cp\n",
        "import time\n",
        "\n",
        "# Функция для сложения элементов вектора на CPU\n",
        "def vector_sum_cpu(vector):\n",
        "    return np.sum(vector)\n",
        "\n",
        "# Функция для сложения элементов вектора на GPU с использованием CUDA\n",
        "def vector_sum_gpu(vector):\n",
        "    vector_gpu = cp.asarray(vector)\n",
        "    result_gpu = cp.sum(vector_gpu)\n",
        "    result_cpu = cp.asnumpy(result_gpu)\n",
        "    return result_cpu\n",
        "\n",
        "if __name__ == \"__main__\":\n",
        "    # Генерация вектора с случайными значениями\n",
        "    vector_size = 1000000\n",
        "    vector = np.random.rand(vector_size)\n",
        "\n",
        "    # Сложение на CPU\n",
        "    start_time_cpu = time.time()\n",
        "    result_cpu = vector_sum_cpu(vector)\n",
        "    end_time_cpu = time.time()\n",
        "\n",
        "    cpu_time = end_time_cpu - start_time_cpu\n",
        "    print(f\"Сумма на CPU: {result_cpu}, Время выполнения на CPU: {cpu_time} секунд\")\n",
        "\n",
        "    # Сложение на GPU\n",
        "    start_time_gpu = time.time()\n",
        "    result_gpu = vector_sum_gpu(vector)\n",
        "    end_time_gpu = time.time()\n",
        "\n",
        "    gpu_time = end_time_gpu - start_time_gpu\n",
        "    print(f\"Сумма на GPU: {result_gpu}, Время выполнения на GPU: {gpu_time} секунд\")"
      ]
    }
  ]
}